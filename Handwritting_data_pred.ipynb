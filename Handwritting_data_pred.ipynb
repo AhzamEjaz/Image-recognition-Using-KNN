{
 "cells": [
  {
   "cell_type": "code",
   "execution_count": 91,
   "metadata": {},
   "outputs": [],
   "source": [
    "#imports \n",
    "import numpy as np\n",
    "import pandas as pd\n",
    "import gzip\n",
    "from matplotlib import pyplot as plt"
   ]
  },
  {
   "attachments": {},
   "cell_type": "markdown",
   "metadata": {},
   "source": [
    "# Loading the data"
   ]
  },
  {
   "attachments": {},
   "cell_type": "markdown",
   "metadata": {},
   "source": [
    "### Training data"
   ]
  },
  {
   "attachments": {},
   "cell_type": "markdown",
   "metadata": {},
   "source": [
    "#### *Data loading*"
   ]
  },
  {
   "cell_type": "code",
   "execution_count": 92,
   "metadata": {},
   "outputs": [
    {
     "name": "stdout",
     "output_type": "stream",
     "text": [
      "(60000, 28, 28, 1)\n"
     ]
    }
   ],
   "source": [
    "# Importing training data\n",
    "f = gzip.open(\"./Data/train-images-idx3-ubyte.gz\", \"r\")\n",
    "# defining the number of images and the number of pixels\n",
    "image_size = 28\n",
    "num_imgs = 60000\n",
    "# reading every string literal in the file and assigning it to buf\n",
    "f.read(16)\n",
    "buf = f.read(num_imgs * image_size * image_size)\n",
    "# Convert each literal/ string to the float and assign it to the x_train\n",
    "X_train = np.frombuffer(buf, dtype=np.uint8).astype(np.float32)\n",
    "# Reshaping the Training data suitable for learning\n",
    "X_train = X_train.reshape(num_imgs, image_size, image_size, 1)\n",
    "print(X_train.shape)\n"
   ]
  },
  {
   "attachments": {},
   "cell_type": "markdown",
   "metadata": {},
   "source": [
    "#### *Label loading*"
   ]
  },
  {
   "cell_type": "code",
   "execution_count": 151,
   "metadata": {},
   "outputs": [
    {
     "name": "stdout",
     "output_type": "stream",
     "text": [
      "[5 0 4 1 9 2 1 3 1 4 3 5 3 6 1 7 2 8 6 9 4 0 9 1 1 2 4 3 2 7 3 8 6 9 0 5 6\n",
      " 0 7 6 1 8 7 9 3 9 8 5 9 3]\n"
     ]
    }
   ],
   "source": [
    "# Importing training labels\n",
    "f = gzip.open(\"./Data/train-labels-idx1-ubyte.gz\",\"rb\")\n",
    "# reading every string literal in the file and assigning it to buf\n",
    "# Convert each literal/ string to the float and assign it to the x_train\n",
    "y_train = []\n",
    "#reason for the statement below is that the data in the files start after 8 literals from the original file\n",
    "buf = f.read(8)\n",
    "for i in range(60000-8):\n",
    "    buf = f.read(1)\n",
    "    # print(buf)\n",
    "    ind_label = np.frombuffer(buf, dtype=np.uint8).astype(np.int64)\n",
    "    y_train.append(ind_label[0])\n",
    "y_train = np.asarray(y_train)\n",
    "print(y_train[0:50])"
   ]
  },
  {
   "attachments": {},
   "cell_type": "markdown",
   "metadata": {},
   "source": [
    "#### *Checking validity of train data*"
   ]
  },
  {
   "cell_type": "code",
   "execution_count": 153,
   "metadata": {},
   "outputs": [
    {
     "data": {
      "image/png": "[encoded data removed]",
      "text/plain": [
       "<Figure size 640x480 with 1 Axes>"
      ]
     },
     "metadata": {},
     "output_type": "display_data"
    }
   ],
   "source": [
    "#Testing if the dataset is valid or not\n",
    "image =  np.asarray(X_train[2200]).squeeze()\n",
    "# image =  X_train[0].reshape(image_size, image_size)\n",
    "# print(image)\n",
    "plt.imshow(image)\n",
    "plt.title(y_train[2200])\n",
    "plt.show()\n",
    "# Test Acurate for training Data"
   ]
  },
  {
   "attachments": {},
   "cell_type": "markdown",
   "metadata": {},
   "source": [
    "# Loading Testing Data"
   ]
  },
  {
   "cell_type": "code",
   "execution_count": 179,
   "metadata": {},
   "outputs": [
    {
     "name": "stdout",
     "output_type": "stream",
     "text": [
      "[7 2 1 ... 6 7 8]\n"
     ]
    }
   ],
   "source": [
    "#Loading Testing data\n",
    "f = gzip.open(\"./Data/t10k-images-idx3-ubyte.gz\", \"rb\")\n",
    "test_num_imgs = 10000\n",
    "f.read(16)\n",
    "buf = f.read(test_num_imgs * image_size * image_size)\n",
    "X_test = np.frombuffer(buf, dtype=np.uint8).astype(np.float32)\n",
    "X_test = X_test.reshape(test_num_imgs, image_size, image_size, 1)\n",
    "#Loading Testing Labels data\n",
    "f = gzip.open(\"./Data/t10k-labels-idx1-ubyte.gz\", \"rb\")\n",
    "f.read(8)\n",
    "buf = f.read(10000-8)\n",
    "y_test = np.frombuffer(buf, dtype=np.uint8)\n",
    "print(y_test)"
   ]
  },
  {
   "attachments": {},
   "cell_type": "markdown",
   "metadata": {},
   "source": [
    "#### *Checking validity of Test data*"
   ]
  },
  {
   "cell_type": "code",
   "execution_count": 181,
   "metadata": {},
   "outputs": [
    {
     "data": {
      "image/png": "[encoded data removed]",
      "text/plain": [
       "<Figure size 640x480 with 1 Axes>"
      ]
     },
     "metadata": {},
     "output_type": "display_data"
    }
   ],
   "source": [
    "# Test validity for testing Data\n",
    "image = X_test[0].squeeze()\n",
    "plt.imshow(image)\n",
    "plt.title(y_test[0])\n",
    "plt.show()"
   ]
  }
 ],
 "metadata": {
  "kernelspec": {
   "display_name": "Python 3",
   "language": "python",
   "name": "python3"
  },
  "language_info": {
   "codemirror_mode": {
    "name": "ipython",
    "version": 3
   },
   "file_extension": ".py",
   "mimetype": "text/x-python",
   "name": "python",
   "nbconvert_exporter": "python",
   "pygments_lexer": "ipython3",
   "version": "3.10.6"
  },
  "orig_nbformat": 4,
  "vscode": {
   "interpreter": {
    "hash": "43fd071074eab4be36937fe2746bdef3d090c8c37b9366bca1c25fe29f9d33f4"
   }
  }
 },
 "nbformat": 4,
 "nbformat_minor": 2
}
