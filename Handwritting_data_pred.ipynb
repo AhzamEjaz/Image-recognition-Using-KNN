{
 "cells": [
  {
   "cell_type": "code",
   "execution_count": 13,
   "metadata": {},
   "outputs": [],
   "source": [
    "#imports \n",
    "import numpy as np\n",
    "import pandas as pd\n",
    "import gzip\n"
   ]
  },
  {
   "cell_type": "code",
   "execution_count": 17,
   "metadata": {},
   "outputs": [
    {
     "name": "stdout",
     "output_type": "stream",
     "text": [
      "(60000, 28, 28, 1)\n"
     ]
    }
   ],
   "source": [
    "# Importing training data\n",
    "f = gzip.open(\"./data/Handwritting_dataset/train-images-idx3-ubyte.gz\", \"r\")\n",
    "# defining the number of images and the number of pixels\n",
    "image_size = 28\n",
    "num_imgs = 60000\n",
    "# reading every string literal in the file and assigning it to buf\n",
    "buf = f.read(num_imgs * image_size * image_size)\n",
    "# Convert each literal/ string to the float and assign it to the x_train\n",
    "X_train = np.frombuffer(buf, dtype=np.uint8).astype(np.float32)\n",
    "# Reshaping the Training data suitable for learning\n",
    "X_train = X_train.reshape(num_imgs, image_size, image_size, 1)\n",
    "print(X_train.shape)"
   ]
  },
  {
   "cell_type": "code",
   "execution_count": 24,
   "metadata": {},
   "outputs": [
    {
     "name": "stdout",
     "output_type": "stream",
     "text": [
      "(60000,)\n"
     ]
    }
   ],
   "source": [
    "# Importing training labels\n",
    "f = gzip.open(\"./data/Handwritting_dataset/train-labels-idx1-ubyte.gz\",\"r\")\n",
    "# reading every string literal in the file and assigning it to buf\n",
    "buf = f.read(num_imgs)\n",
    "# Convert each literal/ string to the float and assign it to the x_train\n",
    "y_train = np.frombuffer(buf, dtype=np.uint8).astype(np.float32)\n",
    "print(y_train.shape)"
   ]
  },
  {
   "cell_type": "code",
   "execution_count": null,
   "metadata": {},
   "outputs": [],
   "source": []
  }
 ],
 "metadata": {
  "kernelspec": {
   "display_name": "Python 3",
   "language": "python",
   "name": "python3"
  },
  "language_info": {
   "codemirror_mode": {
    "name": "ipython",
    "version": 3
   },
   "file_extension": ".py",
   "mimetype": "text/x-python",
   "name": "python",
   "nbconvert_exporter": "python",
   "pygments_lexer": "ipython3",
   "version": "3.10.6"
  },
  "orig_nbformat": 4,
  "vscode": {
   "interpreter": {
    "hash": "43fd071074eab4be36937fe2746bdef3d090c8c37b9366bca1c25fe29f9d33f4"
   }
  }
 },
 "nbformat": 4,
 "nbformat_minor": 2
}
